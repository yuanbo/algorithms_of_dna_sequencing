{
 "cells": [
  {
   "cell_type": "code",
   "execution_count": 2,
   "metadata": {},
   "outputs": [],
   "source": [
    "# Implement the naive_2mm function\n",
    "from naive_2mm import naive_2mm"
   ]
  },
  {
   "cell_type": "markdown",
   "metadata": {},
   "source": [
    "### Example 1"
   ]
  },
  {
   "cell_type": "code",
   "execution_count": 3,
   "metadata": {},
   "outputs": [
    {
     "name": "stdout",
     "output_type": "stream",
     "text": [
      "[10, 24, 38]\n"
     ]
    }
   ],
   "source": [
    "p = 'CTGT'\n",
    "ten_as = 'AAAAAAAAAA'\n",
    "t = ten_as + 'CTGT' + ten_as + 'CTTT' + ten_as + 'CGGG' + ten_as\n",
    "occurrences = naive_2mm(p, t)\n",
    "print(occurrences)"
   ]
  },
  {
   "cell_type": "markdown",
   "metadata": {},
   "source": [
    "### Example 2"
   ]
  },
  {
   "cell_type": "code",
   "execution_count": 4,
   "metadata": {},
   "outputs": [
    {
     "name": "stdout",
     "output_type": "stream",
     "text": [
      "--2020-12-14 15:10:01--  http://d396qusza40orc.cloudfront.net/ads1/data/phix.fa\n",
      "Resolving d396qusza40orc.cloudfront.net (d396qusza40orc.cloudfront.net)... 13.227.77.11, 13.227.77.107, 13.227.77.159, ...\n",
      "Connecting to d396qusza40orc.cloudfront.net (d396qusza40orc.cloudfront.net)|13.227.77.11|:80... connected.\n",
      "HTTP request sent, awaiting response... 200 OK\n",
      "Length: 5528 (5.4K) [application/octet-stream]\n",
      "Saving to: ‘phix.fa.8’\n",
      "\n",
      "phix.fa.8           100%[===================>]   5.40K  --.-KB/s    in 0s      \n",
      "\n",
      "2020-12-14 15:10:01 (155 MB/s) - ‘phix.fa.8’ saved [5528/5528]\n",
      "\n",
      "--2020-12-14 15:10:01--  https://d28rh4a8wq0iu5.cloudfront.net/ads1/data/lambda_virus.fa\n",
      "Resolving d28rh4a8wq0iu5.cloudfront.net (d28rh4a8wq0iu5.cloudfront.net)... 13.227.77.43, 13.227.77.108, 13.227.77.210, ...\n",
      "Connecting to d28rh4a8wq0iu5.cloudfront.net (d28rh4a8wq0iu5.cloudfront.net)|13.227.77.43|:443... connected.\n",
      "HTTP request sent, awaiting response... 200 OK\n",
      "Length: 49270 (48K) [application/octet-stream]\n",
      "Saving to: ‘lambda_virus.fa.2’\n",
      "\n",
      "lambda_virus.fa.2   100%[===================>]  48.12K  --.-KB/s    in 0.04s   \n",
      "\n",
      "2020-12-14 15:10:01 (1.13 MB/s) - ‘lambda_virus.fa.2’ saved [49270/49270]\n",
      "\n"
     ]
    }
   ],
   "source": [
    "# Phi-X genome\n",
    "!wget http://d396qusza40orc.cloudfront.net/ads1/data/phix.fa\n",
    "    # Phi-X genome\n",
    "!wget https://d28rh4a8wq0iu5.cloudfront.net/ads1/data/lambda_virus.fa"
   ]
  },
  {
   "cell_type": "code",
   "execution_count": 5,
   "metadata": {},
   "outputs": [],
   "source": [
    "def readGenome(filename):\n",
    "    genome = ''\n",
    "    with open(filename, 'r') as f:\n",
    "        for line in f:\n",
    "            # ignore header line with genome information\n",
    "            if not line[0] == '>':\n",
    "                genome += line.rstrip()\n",
    "    return genome"
   ]
  },
  {
   "cell_type": "code",
   "execution_count": 6,
   "metadata": {},
   "outputs": [],
   "source": [
    "phix_genome = readGenome('lambda_virus.fa')"
   ]
  },
  {
   "cell_type": "code",
   "execution_count": 7,
   "metadata": {},
   "outputs": [],
   "source": [
    "occurrences = naive_2mm('TTCAAGCC', phix_genome)"
   ]
  },
  {
   "cell_type": "code",
   "execution_count": 8,
   "metadata": {},
   "outputs": [
    {
     "name": "stdout",
     "output_type": "stream",
     "text": [
      "offset of leftmost occurrence: 45\n"
     ]
    }
   ],
   "source": [
    "print('offset of leftmost occurrence: %d' % min(occurrences))"
   ]
  },
  {
   "cell_type": "code",
   "execution_count": 9,
   "metadata": {},
   "outputs": [
    {
     "name": "stdout",
     "output_type": "stream",
     "text": [
      "# occurrences: 191\n"
     ]
    }
   ],
   "source": [
    "print('# occurrences: %d' % len(occurrences))"
   ]
  },
  {
   "cell_type": "code",
   "execution_count": 10,
   "metadata": {},
   "outputs": [
    {
     "name": "stdout",
     "output_type": "stream",
     "text": [
      "offset of leftmost occurrence: 45\n",
      "# occurrences: 191\n"
     ]
    }
   ],
   "source": [
    "occurrences = naive_2mm('TTCAAGCC', phix_genome)\n",
    "print('offset of leftmost occurrence: %d' % min(occurrences))\n",
    "print('# occurrences: %d' % len(occurrences))"
   ]
  },
  {
   "cell_type": "code",
   "execution_count": 11,
   "metadata": {},
   "outputs": [
    {
     "name": "stdout",
     "output_type": "stream",
     "text": [
      "offset of leftmost occurrence: 49\n",
      "# occurrences: 215\n"
     ]
    }
   ],
   "source": [
    "occurrences = naive_2mm('AGGAGGTT', phix_genome)\n",
    "print('offset of leftmost occurrence: %d' % min(occurrences))\n",
    "print('# occurrences: %d' % len(occurrences))"
   ]
  },
  {
   "cell_type": "code",
   "execution_count": null,
   "metadata": {},
   "outputs": [],
   "source": [
    "!wget https://d28rh4a8wq0iu5.cloudfront.net/ads1/data/ERR037900_1.first1000.fastq"
   ]
  },
  {
   "cell_type": "code",
   "execution_count": null,
   "metadata": {},
   "outputs": [],
   "source": [
    "filename = 'ERR037900_1.first1000.fastq'\n",
    "qualities = []\n",
    "with open(filename, 'r') as infp:\n",
    "    read_quality = False\n",
    "    for line in infp:\n",
    "        if read_quality:\n",
    "            qualities.append(line.rstrip())\n",
    "            read_quality = False\n",
    "        elif line.rstrip() == '+':\n",
    "            read_quality = True\n",
    "print(qualities)"
   ]
  },
  {
   "cell_type": "code",
   "execution_count": null,
   "metadata": {},
   "outputs": [],
   "source": [
    "\n",
    "min_qual_indices = []\n",
    "for read_qual in qualities:\n",
    "    indices = [i for i, x in enumerate(read_qual) if x == min(read_qual)]\n",
    "    min_qual_indices += indices\n",
    "print(min_qual_indices)"
   ]
  },
  {
   "cell_type": "code",
   "execution_count": null,
   "metadata": {},
   "outputs": [],
   "source": [
    "from collections import Counter\n",
    "count = Counter(min_qual_indices)\n",
    "count.most_common(1)[0][0]\n"
   ]
  },
  {
   "cell_type": "code",
   "execution_count": null,
   "metadata": {},
   "outputs": [],
   "source": []
  }
 ],
 "metadata": {
  "kernelspec": {
   "display_name": "Python 3",
   "language": "python",
   "name": "python3"
  },
  "language_info": {
   "codemirror_mode": {
    "name": "ipython",
    "version": 3
   },
   "file_extension": ".py",
   "mimetype": "text/x-python",
   "name": "python",
   "nbconvert_exporter": "python",
   "pygments_lexer": "ipython3",
   "version": "3.7.7"
  }
 },
 "nbformat": 4,
 "nbformat_minor": 1
}
