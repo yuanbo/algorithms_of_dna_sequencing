{
 "cells": [
  {
   "cell_type": "code",
   "execution_count": null,
   "metadata": {},
   "outputs": [],
   "source": [
    "# Implement boyer_moore_with_counts by extending boyer_moore function\n",
    "from bm_with_counts import boyer_moore_with_counts\n",
    "from bm_preproc import BoyerMoore"
   ]
  },
  {
   "cell_type": "markdown",
   "metadata": {},
   "source": [
    "### Example 1"
   ]
  },
  {
   "cell_type": "code",
   "execution_count": null,
   "metadata": {},
   "outputs": [],
   "source": [
    "p = 'word'\n",
    "t = 'there would have been a time for such a word'\n",
    "lowercase_alphabet = 'abcdefghijklmnopqrstuvwxyz '\n",
    "p_bm = BoyerMoore(p, lowercase_alphabet)\n",
    "occurrences, num_alignments, num_character_comparisons = boyer_moore_with_counts(p, p_bm, t)\n",
    "print(occurrences, num_alignments, num_character_comparisons)"
   ]
  },
  {
   "cell_type": "markdown",
   "metadata": {},
   "source": [
    "### Example 2"
   ]
  },
  {
   "cell_type": "code",
   "execution_count": null,
   "metadata": {},
   "outputs": [],
   "source": [
    "p = 'needle'\n",
    "t = 'needle need noodle needle'\n",
    "p_bm = BoyerMoore(p, lowercase_alphabet)\n",
    "occurrences, num_alignments, num_character_comparisons = boyer_moore_with_counts(p, p_bm, t)\n",
    "print(occurrences, num_alignments, num_character_comparisons)"
   ]
  },
  {
   "cell_type": "code",
   "execution_count": null,
   "metadata": {},
   "outputs": [],
   "source": [
    "from naive_with_rc import readGenome\n",
    "sequence = [readGenome('chr1.GRCh38.excerpt.fasta')]\n",
    "p = 'GGCGCGGTGGCTCACGCCTGTAATCCCAGCACTTTGGGAGGCCGAGG'\n",
    "lowercase_alphabet = 'ACGT'\n",
    "p_bm = BoyerMoore(p, lowercase_alphabet)\n",
    "total_alignments = total_character_comparisons = 0\n",
    "for t in sequence:\n",
    "    occurrences, num_alignments, num_character_comparisons = boyer_moore_with_counts(p, p_bm, t)\n",
    "    total_alignments += num_alignments\n",
    "    total_character_comparisons += num_character_comparisons\n",
    "    print(total_alignments, total_character_comparisons)"
   ]
  },
  {
   "cell_type": "code",
   "execution_count": null,
   "metadata": {},
   "outputs": [],
   "source": [
    "p = 'GGCGCGGTGGCTCACGCCTGTAAT'\n",
    "from kmer_index import Index\n",
    "from naive_2mm import naive_2mm\n",
    "from naive_2mm import naive\n",
    "print(len(naive_2mm(p, t)))\n",
    "total_occurrences = total_hits = 0\n",
    "occurrences = set()\n",
    "for t in sequence:\n",
    "    segment_length = int(round(len(p)/3))\n",
    "    index = Index(t, 8)\n",
    "    for i in range(3):\n",
    "        start = i * segment_length\n",
    "        end = min((i+1)*segment_length, len(p))\n",
    "        hits = index.query(p[start:end])\n",
    "        total_hits += len(hits)\n",
    "        for hit in hits:\n",
    "            #print(start, hit, p[start:end], t[hit:hit+end-start])\n",
    "            if naive(p, t[hit-start:hit-start+len(p)], 2):\n",
    "                occurrences.add(hit-start)\n",
    "    print(total_hits, len(occurrences))"
   ]
  },
  {
   "cell_type": "code",
   "execution_count": null,
   "metadata": {},
   "outputs": [],
   "source": [
    "print(occurrences)"
   ]
  },
  {
   "cell_type": "code",
   "execution_count": null,
   "metadata": {},
   "outputs": [],
   "source": []
  },
  {
   "cell_type": "code",
   "execution_count": null,
   "metadata": {},
   "outputs": [],
   "source": []
  }
 ],
 "metadata": {
  "kernelspec": {
   "display_name": "Python 3",
   "language": "python",
   "name": "python3"
  },
  "language_info": {
   "codemirror_mode": {
    "name": "ipython",
    "version": 3
   },
   "file_extension": ".py",
   "mimetype": "text/x-python",
   "name": "python",
   "nbconvert_exporter": "python",
   "pygments_lexer": "ipython3",
   "version": "3.7.7"
  }
 },
 "nbformat": 4,
 "nbformat_minor": 4
}
