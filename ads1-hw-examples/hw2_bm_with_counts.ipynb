{
 "cells": [
  {
   "cell_type": "code",
   "execution_count": null,
   "metadata": {},
   "outputs": [],
   "source": [
    "# Implement boyer_moore_with_counts by extending boyer_moore function\n",
    "from bm_with_counts import boyer_moore_with_counts\n",
    "from bm_preproc import BoyerMoore"
   ]
  },
  {
   "cell_type": "markdown",
   "metadata": {},
   "source": [
    "### Example 1"
   ]
  },
  {
   "cell_type": "code",
   "execution_count": null,
   "metadata": {},
   "outputs": [],
   "source": [
    "p = 'word'\n",
    "t = 'there would have been a time for such a word'\n",
    "lowercase_alphabet = 'abcdefghijklmnopqrstuvwxyz '\n",
    "p_bm = BoyerMoore(p, lowercase_alphabet)\n",
    "occurrences, num_alignments, num_character_comparisons = boyer_moore_with_counts(p, p_bm, t)\n",
    "print(occurrences, num_alignments, num_character_comparisons)"
   ]
  },
  {
   "cell_type": "markdown",
   "metadata": {},
   "source": [
    "### Example 2"
   ]
  },
  {
   "cell_type": "code",
   "execution_count": null,
   "metadata": {},
   "outputs": [],
   "source": [
    "p = 'needle'\n",
    "t = 'needle need noodle needle'\n",
    "p_bm = BoyerMoore(p, lowercase_alphabet)\n",
    "occurrences, num_alignments, num_character_comparisons = boyer_moore_with_counts(p, p_bm, t)\n",
    "print(occurrences, num_alignments, num_character_comparisons)"
   ]
  },
  {
   "cell_type": "code",
   "execution_count": null,
   "metadata": {},
   "outputs": [],
   "source": [
    "from naive_with_rc import readGenome\n",
    "sequence = [readGenome('chr1.GRCh38.excerpt.fasta')]\n",
    "p = 'GGCGCGGTGGCTCACGCCTGTAATCCCAGCACTTTGGGAGGCCGAGG'\n",
    "lowercase_alphabet = 'ACGT'\n",
    "p_bm = BoyerMoore(p, lowercase_alphabet)\n",
    "total_alignments = total_character_comparisons = 0\n",
    "for t in sequence:\n",
    "    occurrences, num_alignments, num_character_comparisons = boyer_moore_with_counts(p, p_bm, t)\n",
    "    total_alignments += num_alignments\n",
    "    total_character_comparisons += num_character_comparisons\n",
    "    print(total_alignments, total_character_comparisons)"
   ]
  },
  {
   "cell_type": "code",
   "execution_count": null,
   "metadata": {},
   "outputs": [],
   "source": [
    "p = 'GGCGCGGTGGCTCACGCCTGTAAT'\n",
    "from kmer_index import Index\n",
    "from naive_2mm import naive_2mm\n",
    "print(len(naive_2mm(p, t)))\n",
    "total_occurrences = 0\n",
    "occurrences = []\n",
    "for t in sequence:\n",
    "    #occurrences = naive_2mm(p, t[i:i+len(p)])\n",
    "    #if occurrences:\n",
    "    #    print('found')\n",
    "    index = Index(t, 8)\n",
    "    hits = index.query(p)\n",
    "    print(hits)\n",
    "    for i in hits:\n",
    "        #print(t[i:i+len(p)])\n",
    "        #print(naive_2mm(p, t[i:i+len(p)]))\n",
    "        occurrences += naive_2mm(p, t[i:])\n",
    "    print(len(hits), len(set(occurrences)))\n",
    "print(set(occurrences))"
   ]
  },
  {
   "cell_type": "code",
   "execution_count": null,
   "metadata": {},
   "outputs": [],
   "source": []
  }
 ],
 "metadata": {
  "kernelspec": {
   "display_name": "Python 3",
   "language": "python",
   "name": "python3"
  },
  "language_info": {
   "codemirror_mode": {
    "name": "ipython",
    "version": 3
   },
   "file_extension": ".py",
   "mimetype": "text/x-python",
   "name": "python",
   "nbconvert_exporter": "python",
   "pygments_lexer": "ipython3",
   "version": "3.7.7"
  }
 },
 "nbformat": 4,
 "nbformat_minor": 4
}
